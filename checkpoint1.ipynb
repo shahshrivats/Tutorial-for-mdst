{
  "cells": [
    {
      "cell_type": "markdown",
      "metadata": {
        "id": "view-in-github",
        "colab_type": "text"
      },
      "source": [
        "<a href=\"https://colab.research.google.com/github/shahshrivats/Tutorial-for-mdst/blob/main/checkpoint1.ipynb\" target=\"_parent\"><img src=\"https://colab.research.google.com/assets/colab-badge.svg\" alt=\"Open In Colab\"/></a>"
      ]
    },
    {
      "cell_type": "markdown",
      "metadata": {
        "id": "rNHahzKUr5wZ"
      },
      "source": [
        "# Checkpoint 1"
      ]
    },
    {
      "cell_type": "markdown",
      "metadata": {
        "id": "A_ym-9dVr5wb"
      },
      "source": [
        "Reminder:\n",
        "\n",
        "- You are being evaluated for completion and effort in this checkpoint.\n",
        "- Avoid manual labor / hard coding as much as possible, everything we've taught you so far are meant to simplify and automate your process."
      ]
    },
    {
      "cell_type": "markdown",
      "metadata": {
        "id": "_gvBGgshr5wb"
      },
      "source": [
        "We will be working with the same `states_edu.csv` that you should already be familiar with from the tutorial.\n",
        "\n",
        "We investigated Grade 8 reading score in the tutorial. For this checkpoint, you are asked to investigate another test. Here's an overview:\n",
        "\n",
        "* Choose a specific response variable to focus on\n",
        ">Grade 4 Math, Grade 4 Reading, Grade 8 Math\n",
        "* Pick or create features to use\n",
        ">Will all the features be useful in predicting test score? Are some more important than others? Should you standardize, bin, or scale the data?\n",
        "* Explore the data as it relates to that test\n",
        ">Create at least 2 visualizations (graphs), each with a caption describing the graph and what it tells us about the data\n",
        "* Create training and testing data\n",
        ">Do you want to train on all the data? Only data from the last 10 years? Only Michigan data?\n",
        "* Train a ML model to predict outcome\n",
        ">Define what you want to predict, and pick a model in sklearn to use (see sklearn <a href=\"https://scikit-learn.org/stable/modules/linear_model.html\">regressors</a>).\n",
        "\n",
        "\n",
        "Include comments throughout your code! Every cleanup and preprocessing task should be documented."
      ]
    },
    {
      "cell_type": "markdown",
      "metadata": {
        "id": "SSXPR0QFr5wc"
      },
      "source": [
        "<h2> Data Cleanup </h2>\n",
        "\n",
        "Import `numpy`, `pandas`, and `matplotlib`.\n",
        "\n",
        "(Feel free to import other libraries!)"
      ]
    },
    {
      "cell_type": "code",
      "execution_count": 13,
      "metadata": {
        "id": "MKX3Biqgr5wc"
      },
      "outputs": [],
      "source": [
        "import numpy as np\n",
        "import matplotlib.pyplot as plt\n",
        "from sklearn.model_selection import train_test_split\n",
        "from sklearn.linear_model import LinearRegression\n",
        "import pandas as pd"
      ]
    },
    {
      "cell_type": "markdown",
      "metadata": {
        "id": "_KI-Ty5er5wc"
      },
      "source": [
        "Load in the \"states_edu.csv\" dataset and take a look at the head of the data"
      ]
    },
    {
      "cell_type": "code",
      "execution_count": 23,
      "metadata": {
        "colab": {
          "base_uri": "https://localhost:8080/"
        },
        "id": "WAH8TElhr5wc",
        "outputId": "8631b078-88b4-47fc-ac3e-bbdada373044"
      },
      "outputs": [
        {
          "output_type": "stream",
          "name": "stdout",
          "text": [
            "       PRIMARY_KEY       STATE  YEAR  ENROLL  TOTAL_REVENUE  FEDERAL_REVENUE  \\\n",
            "0     1992_ALABAMA     ALABAMA  1992     NaN      2678885.0         304177.0   \n",
            "1      1992_ALASKA      ALASKA  1992     NaN      1049591.0         106780.0   \n",
            "2     1992_ARIZONA     ARIZONA  1992     NaN      3258079.0         297888.0   \n",
            "3    1992_ARKANSAS    ARKANSAS  1992     NaN      1711959.0         178571.0   \n",
            "4  1992_CALIFORNIA  CALIFORNIA  1992     NaN     26260025.0        2072470.0   \n",
            "\n",
            "   STATE_REVENUE  LOCAL_REVENUE  TOTAL_EXPENDITURE  INSTRUCTION_EXPENDITURE  \\\n",
            "0      1659028.0       715680.0          2653798.0                1481703.0   \n",
            "1       720711.0       222100.0           972488.0                 498362.0   \n",
            "2      1369815.0      1590376.0          3401580.0                1435908.0   \n",
            "3       958785.0       574603.0          1743022.0                 964323.0   \n",
            "4     16546514.0      7641041.0         27138832.0               14358922.0   \n",
            "\n",
            "   ...  GRADES_4_G  GRADES_8_G  GRADES_12_G  GRADES_1_8_G  GRADES_9_12_G  \\\n",
            "0  ...     57948.0     58025.0      41167.0           NaN            NaN   \n",
            "1  ...      9748.0      8789.0       6714.0           NaN            NaN   \n",
            "2  ...     55433.0     49081.0      37410.0           NaN            NaN   \n",
            "3  ...     34632.0     36011.0      27651.0           NaN            NaN   \n",
            "4  ...    418418.0    363296.0     270675.0           NaN            NaN   \n",
            "\n",
            "   GRADES_ALL_G  AVG_MATH_4_SCORE  AVG_MATH_8_SCORE  AVG_READING_4_SCORE  \\\n",
            "0      731634.0             208.0             252.0                207.0   \n",
            "1      122487.0               NaN               NaN                  NaN   \n",
            "2      673477.0             215.0             265.0                209.0   \n",
            "3      441490.0             210.0             256.0                211.0   \n",
            "4     5254844.0             208.0             261.0                202.0   \n",
            "\n",
            "   AVG_READING_8_SCORE  \n",
            "0                  NaN  \n",
            "1                  NaN  \n",
            "2                  NaN  \n",
            "3                  NaN  \n",
            "4                  NaN  \n",
            "\n",
            "[5 rows x 25 columns]\n"
          ]
        }
      ],
      "source": [
        "data = pd.read_csv('states_edu.csv')\n",
        "print(data.head())\n"
      ]
    },
    {
      "cell_type": "markdown",
      "metadata": {
        "id": "Q8SLJKx9r5wc"
      },
      "source": [
        "You should always familiarize yourself with what each column in the dataframe represents. Read about the states_edu dataset here: https://www.kaggle.com/noriuk/us-education-datasets-unification-project"
      ]
    },
    {
      "cell_type": "markdown",
      "metadata": {
        "id": "c6riMy-or5wd"
      },
      "source": [
        "Use this space to rename columns, deal with missing data, etc. _(optional)_"
      ]
    },
    {
      "cell_type": "code",
      "execution_count": 24,
      "metadata": {
        "id": "jlueo7fdr5wd"
      },
      "outputs": [],
      "source": [
        "data = data.dropna(subset=['AVG_MATH_4_SCORE'])"
      ]
    },
    {
      "cell_type": "markdown",
      "metadata": {
        "id": "1CkWYl7Zr5wd"
      },
      "source": [
        "<h2>Exploratory Data Analysis (EDA) </h2>"
      ]
    },
    {
      "cell_type": "markdown",
      "metadata": {
        "id": "xjUEkjtkr5wd"
      },
      "source": [
        "Chosen one of Grade 4 Reading, Grade 4 Math, or Grade 8 Math to focus on: *ENTER YOUR CHOICE HERE*"
      ]
    },
    {
      "cell_type": "markdown",
      "metadata": {
        "id": "e49yj7gBr5wd"
      },
      "source": [
        "How many years of data are logged in our dataset?"
      ]
    },
    {
      "cell_type": "code",
      "execution_count": 28,
      "metadata": {
        "colab": {
          "base_uri": "https://localhost:8080/"
        },
        "id": "ni86E-Wxr5wd",
        "outputId": "589bb910-2cfd-47b4-9f1d-8a18c5ab1aae"
      },
      "outputs": [
        {
          "output_type": "stream",
          "name": "stdout",
          "text": [
            "Number of years logged: 13\n"
          ]
        }
      ],
      "source": [
        "chosen_test = 'AVG_MATH_4_SCORE'\n",
        "years_logged = data['YEAR'].nunique()\n",
        "print(f\"Number of years logged: {years_logged}\")"
      ]
    },
    {
      "cell_type": "markdown",
      "metadata": {
        "id": "nLjK4efer5wd"
      },
      "source": [
        "Let's compare Michigan to Ohio. Which state has the higher average across all years in the test you chose?"
      ]
    },
    {
      "cell_type": "code",
      "execution_count": 29,
      "metadata": {
        "colab": {
          "base_uri": "https://localhost:8080/"
        },
        "id": "WVMFcEJSr5wd",
        "outputId": "38dfe7eb-702f-4884-85be-fedcd6a5eb2d"
      },
      "outputs": [
        {
          "output_type": "stream",
          "name": "stdout",
          "text": [
            "Michigan Avg: 234.36363636363637, Ohio Avg: 239.45454545454547\n"
          ]
        }
      ],
      "source": [
        "michigan_avg = data[data['STATE'] == 'MICHIGAN'][chosen_test].mean()\n",
        "ohio_avg = data[data['STATE'] == 'OHIO'][chosen_test].mean()\n",
        "print(f\"Michigan Avg: {michigan_avg}, Ohio Avg: {ohio_avg}\")"
      ]
    },
    {
      "cell_type": "markdown",
      "metadata": {
        "id": "cGmcDdser5we"
      },
      "source": [
        "Find the average for your chosen test across all states in 2019"
      ]
    },
    {
      "cell_type": "code",
      "execution_count": 30,
      "metadata": {
        "colab": {
          "base_uri": "https://localhost:8080/"
        },
        "id": "XdHNH0EKr5we",
        "outputId": "ad23b7de-917c-42df-89a4-c55ca89c4fe3"
      },
      "outputs": [
        {
          "output_type": "stream",
          "name": "stdout",
          "text": [
            "Average Grade 4 Math score in 2019: 239.9433962264151\n"
          ]
        }
      ],
      "source": [
        "avg_2019 = data[data['YEAR'] == 2019][chosen_test].mean()\n",
        "print(f\"Average Grade 4 Math score in 2019: {avg_2019}\")\n"
      ]
    },
    {
      "cell_type": "markdown",
      "metadata": {
        "id": "fVNn9OHrr5we"
      },
      "source": [
        "For each state, find a maximum value for your chosen test score"
      ]
    },
    {
      "cell_type": "code",
      "execution_count": 31,
      "metadata": {
        "colab": {
          "base_uri": "https://localhost:8080/"
        },
        "id": "8wPYWGRhr5we",
        "outputId": "1ddcbe30-e64a-47da-be57-2b8289028d0b"
      },
      "outputs": [
        {
          "output_type": "stream",
          "name": "stdout",
          "text": [
            "STATE\n",
            "ALABAMA       233.0\n",
            "ALASKA        237.0\n",
            "ARIZONA       240.0\n",
            "ARKANSAS      240.0\n",
            "CALIFORNIA    235.0\n",
            "Name: AVG_MATH_4_SCORE, dtype: float64\n"
          ]
        }
      ],
      "source": [
        "max_per_state = data.groupby('STATE')[chosen_test].max()\n",
        "print(max_per_state.head())"
      ]
    },
    {
      "cell_type": "markdown",
      "metadata": {
        "id": "iXqdDS5Fr5we"
      },
      "source": [
        "*Refer to the `Grouping and Aggregating` section in Tutorial 0 if you are stuck."
      ]
    },
    {
      "cell_type": "markdown",
      "metadata": {
        "id": "c4-v7wHSr5we"
      },
      "source": [
        "<h2> Feature Engineering </h2>\n",
        "\n",
        "After exploring the data, you can choose to modify features that you would use to predict the performance of the students on your chosen response variable.\n",
        "\n",
        "You can also create your own features. For example, perhaps you figured that maybe a state's expenditure per student may affect their overall academic performance so you create a expenditure_per_student feature.\n",
        "\n",
        "Use this space to modify or create features."
      ]
    },
    {
      "cell_type": "code",
      "execution_count": 32,
      "metadata": {
        "colab": {
          "base_uri": "https://localhost:8080/"
        },
        "id": "TMdl0GFar5we",
        "outputId": "7d76c7d2-58a5-41e4-adc5-36d23f544a71"
      },
      "outputs": [
        {
          "output_type": "stream",
          "name": "stdout",
          "text": [
            "   TOTAL_EXPENDITURE  ENROLL  EXPENDITURE_PER_STUDENT\n",
            "0          2653798.0     NaN                      NaN\n",
            "2          3401580.0     NaN                      NaN\n",
            "3          1743022.0     NaN                      NaN\n",
            "4         27138832.0     NaN                      NaN\n",
            "5          3264826.0     NaN                      NaN\n"
          ]
        }
      ],
      "source": [
        "# Create a new feature: Expenditure per student\n",
        "data['EXPENDITURE_PER_STUDENT'] = data['TOTAL_EXPENDITURE'] / data['ENROLL']\n",
        "\n",
        "# Check the first few rows to verify\n",
        "print(data[['TOTAL_EXPENDITURE', 'ENROLL', 'EXPENDITURE_PER_STUDENT']].head())\n"
      ]
    },
    {
      "cell_type": "markdown",
      "metadata": {
        "id": "QdxRWg5rr5we"
      },
      "source": [
        "Feature engineering justification: **<BRIEFLY DESCRIBE WHY YOU MADE THE CHANGES THAT YOU DID\\>**"
      ]
    },
    {
      "cell_type": "markdown",
      "metadata": {
        "id": "58Gyd1zbr5we"
      },
      "source": [
        "<h2>Visualization</h2>\n",
        "\n",
        "Investigate the relationship between your chosen response variable and at least two predictors using visualizations. Write down your observations.\n",
        "\n",
        "**Visualization 1**"
      ]
    },
    {
      "cell_type": "code",
      "execution_count": 34,
      "metadata": {
        "colab": {
          "base_uri": "https://localhost:8080/",
          "height": 564
        },
        "id": "hNrxbVyFr5we",
        "outputId": "b335e60b-17b0-4fca-adf0-ef629845827f"
      },
      "outputs": [
        {
          "output_type": "display_data",
          "data": {
            "text/plain": [
              "<Figure size 1000x600 with 1 Axes>"
            ],
            "image/png": "[encoded data removed]"
          },
          "metadata": {}
        }
      ],
      "source": [
        "import matplotlib.pyplot as plt\n",
        "\n",
        "# Visualization 1: Total revenue vs. Grade 4 Math scores\n",
        "plt.figure(figsize=(10,6))\n",
        "plt.scatter(data['TOTAL_REVENUE'], data[chosen_test], color='blue')\n",
        "plt.title('Total Revenue vs. Grade 4 Math Scores')\n",
        "plt.xlabel('Total Revenue')\n",
        "plt.ylabel('Grade 4 Math Scores')\n",
        "plt.grid(True)\n",
        "plt.show()\n"
      ]
    },
    {
      "cell_type": "markdown",
      "metadata": {
        "id": "qidzda94r5we"
      },
      "source": [
        "[link text](https://)**<CAPTION FOR VIZ 1>**"
      ]
    },
    {
      "cell_type": "markdown",
      "metadata": {
        "id": "jEYzdCLPr5we"
      },
      "source": [
        "**Visualization 2**"
      ]
    },
    {
      "cell_type": "code",
      "execution_count": 35,
      "metadata": {
        "colab": {
          "base_uri": "https://localhost:8080/",
          "height": 564
        },
        "id": "VgZjmy3Ir5wf",
        "outputId": "04637514-6052-48de-e34c-24c0d381382c"
      },
      "outputs": [
        {
          "output_type": "display_data",
          "data": {
            "text/plain": [
              "<Figure size 1000x600 with 1 Axes>"
            ],
            "image/png": "[encoded data removed]"
          },
          "metadata": {}
        }
      ],
      "source": [
        "plt.figure(figsize=(10,6))\n",
        "plt.scatter(data['EXPENDITURE_PER_STUDENT'], data[chosen_test], color='green')\n",
        "plt.title('Expenditure per Student vs. Grade 4 Math Scores')\n",
        "plt.xlabel('Expenditure per Student')\n",
        "plt.ylabel('Grade 4 Math Scores')\n",
        "plt.grid(True)\n",
        "plt.show()"
      ]
    },
    {
      "cell_type": "markdown",
      "metadata": {
        "id": "KBqwCIJWr5wf"
      },
      "source": [
        "**<CAPTION FOR VIZ 2>**"
      ]
    },
    {
      "cell_type": "markdown",
      "metadata": {
        "id": "Fbmpokq_r5wf"
      },
      "source": [
        "<h2> Data Creation </h2>\n",
        "\n",
        "_Use this space to create train/test data_"
      ]
    },
    {
      "cell_type": "code",
      "execution_count": null,
      "metadata": {
        "id": "jHjHLGqtr5wf"
      },
      "outputs": [],
      "source": [
        "from sklearn.model_selection import train_test_split"
      ]
    },
    {
      "cell_type": "code",
      "execution_count": 43,
      "metadata": {
        "id": "aAPw0aDXr5wf"
      },
      "outputs": [],
      "source": [
        "X = data[['TOTAL_REVENUE', 'EXPENDITURE_PER_STUDENT']]\n",
        "y = data[chosen_test]"
      ]
    },
    {
      "cell_type": "code",
      "execution_count": 41,
      "metadata": {
        "id": "lGPIw9YQr5wf"
      },
      "outputs": [],
      "source": [
        "X_train, X_test, y_train, y_test = train_test_split(X, y, test_size=0.2, random_state=42)"
      ]
    },
    {
      "cell_type": "markdown",
      "metadata": {
        "id": "PdzIeeNfr5wf"
      },
      "source": [
        "<h2> Prediction </h2>"
      ]
    },
    {
      "cell_type": "markdown",
      "metadata": {
        "id": "Q_Q7O2Bsr5wf"
      },
      "source": [
        "ML Models [Resource](https://medium.com/@vijaya.beeravalli/comparison-of-machine-learning-classification-models-for-credit-card-default-data-c3cf805c9a5a)"
      ]
    },
    {
      "cell_type": "code",
      "execution_count": 39,
      "metadata": {
        "id": "F_NsAfy6r5wg"
      },
      "outputs": [],
      "source": [
        "from sklearn.linear_model import LinearRegression"
      ]
    },
    {
      "cell_type": "code",
      "execution_count": 42,
      "metadata": {
        "id": "MYubm5oOr5wg"
      },
      "outputs": [],
      "source": [
        "model = LinearRegression()"
      ]
    },
    {
      "cell_type": "code",
      "execution_count": null,
      "metadata": {
        "id": "SzGk6Z4Pr5wg"
      },
      "outputs": [],
      "source": [
        "model.fit(X_train, y_train)"
      ]
    },
    {
      "cell_type": "code",
      "execution_count": null,
      "metadata": {
        "id": "hsVoKv_Ir5wg"
      },
      "outputs": [],
      "source": [
        "y_pred = model.predict(X_test)"
      ]
    },
    {
      "cell_type": "markdown",
      "metadata": {
        "id": "SPpYZ7Iur5wg"
      },
      "source": [
        "## Evaluation"
      ]
    },
    {
      "cell_type": "markdown",
      "metadata": {
        "id": "_TFQrkF9r5wg"
      },
      "source": [
        "Choose some metrics to evaluate the performance of your model, some of them are mentioned in the tutorial."
      ]
    },
    {
      "cell_type": "code",
      "execution_count": 44,
      "metadata": {
        "id": "4jvu9YaDr5wg"
      },
      "outputs": [],
      "source": []
    },
    {
      "cell_type": "markdown",
      "metadata": {
        "id": "5gd95hL8r5wg"
      },
      "source": [
        "We have copied over the graphs that visualize the model's performance on the training and testing set.\n",
        "\n",
        "Change `col_name` and modify the call to `plt.ylabel()` to isolate how a single predictor affects the model."
      ]
    },
    {
      "cell_type": "code",
      "execution_count": 46,
      "metadata": {
        "id": "oNczjrxFr5wg"
      },
      "outputs": [],
      "source": []
    },
    {
      "cell_type": "code",
      "execution_count": null,
      "metadata": {
        "id": "Ub-iR6nwr5wg"
      },
      "outputs": [],
      "source": [
        "# col_name = 'COLUMN NAME OF ONE PREDICTOR\"\n",
        "\n",
        "# f = plt.figure(figsize=(12,6))\n",
        "# plt.scatter(X_test[col_name], y_test, color = \"blue\")\n",
        "# plt.scatter(X_test[col_name], model.predict(X_test), color = \"black\")\n",
        "\n",
        "# plt.legend(['True testing','Predicted testing'])\n",
        "# plt.xlabel(col_name)\n",
        "# plt.ylabel('NAME OF THE PREDICTOR')\n",
        "# plt.title(\"Model Behavior on Testing Set\")"
      ]
    }
  ],
  "metadata": {
    "kernelspec": {
      "display_name": "Python 3.9.0 64-bit",
      "language": "python",
      "name": "python3"
    },
    "language_info": {
      "codemirror_mode": {
        "name": "ipython",
        "version": 3
      },
      "file_extension": ".py",
      "mimetype": "text/x-python",
      "name": "python",
      "nbconvert_exporter": "python",
      "pygments_lexer": "ipython3",
      "version": "3.9.0"
    },
    "vscode": {
      "interpreter": {
        "hash": "6cf8df3ff69f85f626faf55c10df6fe2cb9d1236b4dc73844ee4dc01369c2c99"
      }
    },
    "colab": {
      "provenance": [],
      "include_colab_link": true
    }
  },
  "nbformat": 4,
  "nbformat_minor": 0
}